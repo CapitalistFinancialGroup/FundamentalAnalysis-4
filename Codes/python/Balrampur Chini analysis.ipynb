{
 "cells": [
  {
   "cell_type": "code",
   "execution_count": 1,
   "metadata": {},
   "outputs": [],
   "source": [
    "#importing libraries\n",
    "import requests\n",
    "import stockLibraries.getStockDetails as sl"
   ]
  },
  {
   "cell_type": "markdown",
   "metadata": {},
   "source": [
    "Add the NSE tickr in the variable"
   ]
  },
  {
   "cell_type": "code",
   "execution_count": 2,
   "metadata": {},
   "outputs": [
    {
     "name": "stdout",
     "output_type": "stream",
     "text": [
      "https://www.moneycontrol.com/mccode/common/autosuggestion_solr.php?classic=true&query=BALRAMCHIN&type=1&format=json\n"
     ]
    }
   ],
   "source": [
    "nse_ticker = \"BALRAMCHIN\"\n",
    "\n",
    "# Create the url \n",
    "\n",
    "url = \"https://www.moneycontrol.com/mccode/common/autosuggestion_solr.php?classic=true&query=\"+nse_ticker+\"&type=1&format=json\"\n",
    "print(url)"
   ]
  },
  {
   "cell_type": "code",
   "execution_count": 3,
   "metadata": {},
   "outputs": [
    {
     "name": "stdout",
     "output_type": "stream",
     "text": [
      "Retrieving stock data from money control https://www.moneycontrol.com/mccode/common/autosuggestion_solr.php?classic=true&query=BALRAMCHIN&type=1&format=json\n",
      "Information fetched:\n",
      "{'link_src': 'https://www.moneycontrol.com/india/stockpricequote/sugar/balrampurchinimills/BCM', 'link_track': 'http://arjun.in.com/dashboard/api/profilingSuggestions.php?id=BCM&type=stock', 'pdt_dis_nm': 'Balrampur Chini Mills&nbsp;<span>INE119A01028, BALRAMCHIN, 500038</span>', 'sc_id': 'BCM', 'stock_name': 'Balrampur Chini Mills', 'sc_sector_id': 'FB', 'sc_sector': 'Food & Beverages'}\n"
     ]
    }
   ],
   "source": [
    "abbv01 , abbv02 = sl.extract_stock_data(nse_ticker)\n"
   ]
  }
 ],
 "metadata": {
  "kernelspec": {
   "display_name": "Python 3",
   "language": "python",
   "name": "python3"
  },
  "language_info": {
   "codemirror_mode": {
    "name": "ipython",
    "version": 3
   },
   "file_extension": ".py",
   "mimetype": "text/x-python",
   "name": "python",
   "nbconvert_exporter": "python",
   "pygments_lexer": "ipython3",
   "version": "3.9.2"
  }
 },
 "nbformat": 4,
 "nbformat_minor": 4
}
